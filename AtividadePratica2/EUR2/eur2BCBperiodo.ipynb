{
 "cells": [
  {
   "cell_type": "markdown",
   "id": "35e51864",
   "metadata": {},
   "source": [
    "## 1. Coleta de Dados"
   ]
  },
  {
   "cell_type": "code",
   "execution_count": 1,
   "id": "8b5c9eee",
   "metadata": {},
   "outputs": [
    {
     "data": {
      "application/vnd.microsoft.datawrangler.viewer.v0+json": {
       "columns": [
        {
         "name": "index",
         "rawType": "int64",
         "type": "integer"
        },
        {
         "name": "paridadeCompra",
         "rawType": "object",
         "type": "string"
        },
        {
         "name": "paridadeVenda",
         "rawType": "object",
         "type": "string"
        },
        {
         "name": "cotacaoCompra",
         "rawType": "object",
         "type": "string"
        },
        {
         "name": "cotacaoVenda",
         "rawType": "object",
         "type": "string"
        },
        {
         "name": "dataHoraCotacao",
         "rawType": "object",
         "type": "string"
        },
        {
         "name": "tipoBoletim",
         "rawType": "object",
         "type": "string"
        }
       ],
       "ref": "5f4c5231-16d1-4473-9c0a-10d4c541af73",
       "rows": [
        [
         "0",
         "1,0682",
         "1,0683",
         "5,6994",
         "5,7006",
         "2023-01-02 10:11:18.511",
         "Abertura"
        ],
        [
         "1",
         "1,0677",
         "1,0681",
         "5,7163",
         "5,719",
         "2023-01-02 11:05:17.032",
         "Intermediário"
        ],
        [
         "2",
         "1,0671",
         "1,0675",
         "5,7054",
         "5,7081",
         "2023-01-02 12:10:16.594",
         "Intermediário"
        ],
        [
         "3",
         "1,0659",
         "1,0663",
         "5,6876999999999995",
         "5,6905",
         "2023-01-02 13:05:57.582",
         "Intermediário"
        ],
        [
         "4",
         "1,0659",
         "1,0663",
         "5,6951",
         "5,6979",
         "2023-01-02 13:05:57.593",
         "Fechamento"
        ]
       ],
       "shape": {
        "columns": 6,
        "rows": 5
       }
      },
      "text/html": [
       "<div>\n",
       "<style scoped>\n",
       "    .dataframe tbody tr th:only-of-type {\n",
       "        vertical-align: middle;\n",
       "    }\n",
       "\n",
       "    .dataframe tbody tr th {\n",
       "        vertical-align: top;\n",
       "    }\n",
       "\n",
       "    .dataframe thead th {\n",
       "        text-align: right;\n",
       "    }\n",
       "</style>\n",
       "<table border=\"1\" class=\"dataframe\">\n",
       "  <thead>\n",
       "    <tr style=\"text-align: right;\">\n",
       "      <th></th>\n",
       "      <th>paridadeCompra</th>\n",
       "      <th>paridadeVenda</th>\n",
       "      <th>cotacaoCompra</th>\n",
       "      <th>cotacaoVenda</th>\n",
       "      <th>dataHoraCotacao</th>\n",
       "      <th>tipoBoletim</th>\n",
       "    </tr>\n",
       "  </thead>\n",
       "  <tbody>\n",
       "    <tr>\n",
       "      <th>0</th>\n",
       "      <td>1,0682</td>\n",
       "      <td>1,0683</td>\n",
       "      <td>5,6994</td>\n",
       "      <td>5,7006</td>\n",
       "      <td>2023-01-02 10:11:18.511</td>\n",
       "      <td>Abertura</td>\n",
       "    </tr>\n",
       "    <tr>\n",
       "      <th>1</th>\n",
       "      <td>1,0677</td>\n",
       "      <td>1,0681</td>\n",
       "      <td>5,7163</td>\n",
       "      <td>5,719</td>\n",
       "      <td>2023-01-02 11:05:17.032</td>\n",
       "      <td>Intermediário</td>\n",
       "    </tr>\n",
       "    <tr>\n",
       "      <th>2</th>\n",
       "      <td>1,0671</td>\n",
       "      <td>1,0675</td>\n",
       "      <td>5,7054</td>\n",
       "      <td>5,7081</td>\n",
       "      <td>2023-01-02 12:10:16.594</td>\n",
       "      <td>Intermediário</td>\n",
       "    </tr>\n",
       "    <tr>\n",
       "      <th>3</th>\n",
       "      <td>1,0659</td>\n",
       "      <td>1,0663</td>\n",
       "      <td>5,6876999999999995</td>\n",
       "      <td>5,6905</td>\n",
       "      <td>2023-01-02 13:05:57.582</td>\n",
       "      <td>Intermediário</td>\n",
       "    </tr>\n",
       "    <tr>\n",
       "      <th>4</th>\n",
       "      <td>1,0659</td>\n",
       "      <td>1,0663</td>\n",
       "      <td>5,6951</td>\n",
       "      <td>5,6979</td>\n",
       "      <td>2023-01-02 13:05:57.593</td>\n",
       "      <td>Fechamento</td>\n",
       "    </tr>\n",
       "  </tbody>\n",
       "</table>\n",
       "</div>"
      ],
      "text/plain": [
       "  paridadeCompra paridadeVenda       cotacaoCompra cotacaoVenda  \\\n",
       "0         1,0682        1,0683              5,6994       5,7006   \n",
       "1         1,0677        1,0681              5,7163        5,719   \n",
       "2         1,0671        1,0675              5,7054       5,7081   \n",
       "3         1,0659        1,0663  5,6876999999999995       5,6905   \n",
       "4         1,0659        1,0663              5,6951       5,6979   \n",
       "\n",
       "           dataHoraCotacao    tipoBoletim  \n",
       "0  2023-01-02 10:11:18.511       Abertura  \n",
       "1  2023-01-02 11:05:17.032  Intermediário  \n",
       "2  2023-01-02 12:10:16.594  Intermediário  \n",
       "3  2023-01-02 13:05:57.582  Intermediário  \n",
       "4  2023-01-02 13:05:57.593     Fechamento  "
      ]
     },
     "execution_count": 1,
     "metadata": {},
     "output_type": "execute_result"
    }
   ],
   "source": [
    "import pandas as pd\n",
    "\n",
    "# Carregar o dataset\n",
    "df = pd.read_csv('../../AtividadePratica1/EUR/datasetsEUR/eur_periodo.csv', sep=';')\n",
    "# Exibir as primeiras linhas do DataFrame\n",
    "df.head()\n"
   ]
  },
  {
   "cell_type": "markdown",
   "id": "f76bbf3f",
   "metadata": {},
   "source": [
    "- Com base na descrição fornecida pelo BCB, as colunas serão renomeadas para facilitação do entendimento. A moeda de referência para comparação será o dólar americano (USD).\n",
    "\n",
    "    1. paridadeCompra: Paridade de compra Euro-USD.\n",
    "\n",
    "        → Moedas tipo A: USD/[moeda], Moedas tipo B: [moeda]/USD.\n",
    "\n",
    "    2. paridadeVenda: Paridade de venda Euro-USD.\n",
    "\n",
    "        → Moedas tipo A: USD/[moeda], Moedas tipo B: [moeda]/USD.\n",
    "\n",
    "    3. cotacaoCompra: Cotação de compra Euro contra a unidade monetária corrente.\n",
    "\n",
    "        → Fórmula: unidade monetária corrente/[moeda].\n",
    "\n",
    "    4. cotacaoVenda: Cotação de venda Euro contra a unidade monetária corrente.\n",
    "\n",
    "        → Fórmula: unidade monetária corrente/[moeda].\n",
    "\n",
    "    5. dataHoraCotacao: Data e hora da cotação.\n",
    "\n",
    "        → Inclui data, hora e minuto das paridades e cotações.\n",
    "\n",
    "    6. tipoBoletim: Tipo do boletim que gerou os dados.\n",
    "\n",
    "        → Pode ser: Abertura, Intermediário, Fechamento Interbancário ou Fechamento."
   ]
  },
  {
   "cell_type": "code",
   "execution_count": 2,
   "id": "e5188511",
   "metadata": {},
   "outputs": [
    {
     "data": {
      "application/vnd.microsoft.datawrangler.viewer.v0+json": {
       "columns": [
        {
         "name": "index",
         "rawType": "int64",
         "type": "integer"
        },
        {
         "name": "Paridade_compra_Euro-USD",
         "rawType": "object",
         "type": "string"
        },
        {
         "name": "Paridade_venda_Euro-USD",
         "rawType": "object",
         "type": "string"
        },
        {
         "name": "Cotacao_compra_Euro",
         "rawType": "object",
         "type": "string"
        },
        {
         "name": "Cotacao_compra_Euro",
         "rawType": "object",
         "type": "string"
        },
        {
         "name": "Data_hora_cotacao",
         "rawType": "object",
         "type": "string"
        },
        {
         "name": "tipoBoletim",
         "rawType": "object",
         "type": "string"
        }
       ],
       "ref": "1dd5522c-0481-4456-8221-23b317bcaac1",
       "rows": [
        [
         "0",
         "1,0682",
         "1,0683",
         "5,6994",
         "5,7006",
         "2023-01-02 10:11:18.511",
         "Abertura"
        ],
        [
         "1",
         "1,0677",
         "1,0681",
         "5,7163",
         "5,719",
         "2023-01-02 11:05:17.032",
         "Intermediário"
        ],
        [
         "2",
         "1,0671",
         "1,0675",
         "5,7054",
         "5,7081",
         "2023-01-02 12:10:16.594",
         "Intermediário"
        ],
        [
         "3",
         "1,0659",
         "1,0663",
         "5,6876999999999995",
         "5,6905",
         "2023-01-02 13:05:57.582",
         "Intermediário"
        ],
        [
         "4",
         "1,0659",
         "1,0663",
         "5,6951",
         "5,6979",
         "2023-01-02 13:05:57.593",
         "Fechamento"
        ]
       ],
       "shape": {
        "columns": 6,
        "rows": 5
       }
      },
      "text/html": [
       "<div>\n",
       "<style scoped>\n",
       "    .dataframe tbody tr th:only-of-type {\n",
       "        vertical-align: middle;\n",
       "    }\n",
       "\n",
       "    .dataframe tbody tr th {\n",
       "        vertical-align: top;\n",
       "    }\n",
       "\n",
       "    .dataframe thead th {\n",
       "        text-align: right;\n",
       "    }\n",
       "</style>\n",
       "<table border=\"1\" class=\"dataframe\">\n",
       "  <thead>\n",
       "    <tr style=\"text-align: right;\">\n",
       "      <th></th>\n",
       "      <th>Paridade_compra_Euro-USD</th>\n",
       "      <th>Paridade_venda_Euro-USD</th>\n",
       "      <th>Cotacao_compra_Euro</th>\n",
       "      <th>Cotacao_compra_Euro</th>\n",
       "      <th>Data_hora_cotacao</th>\n",
       "      <th>tipoBoletim</th>\n",
       "    </tr>\n",
       "  </thead>\n",
       "  <tbody>\n",
       "    <tr>\n",
       "      <th>0</th>\n",
       "      <td>1,0682</td>\n",
       "      <td>1,0683</td>\n",
       "      <td>5,6994</td>\n",
       "      <td>5,7006</td>\n",
       "      <td>2023-01-02 10:11:18.511</td>\n",
       "      <td>Abertura</td>\n",
       "    </tr>\n",
       "    <tr>\n",
       "      <th>1</th>\n",
       "      <td>1,0677</td>\n",
       "      <td>1,0681</td>\n",
       "      <td>5,7163</td>\n",
       "      <td>5,719</td>\n",
       "      <td>2023-01-02 11:05:17.032</td>\n",
       "      <td>Intermediário</td>\n",
       "    </tr>\n",
       "    <tr>\n",
       "      <th>2</th>\n",
       "      <td>1,0671</td>\n",
       "      <td>1,0675</td>\n",
       "      <td>5,7054</td>\n",
       "      <td>5,7081</td>\n",
       "      <td>2023-01-02 12:10:16.594</td>\n",
       "      <td>Intermediário</td>\n",
       "    </tr>\n",
       "    <tr>\n",
       "      <th>3</th>\n",
       "      <td>1,0659</td>\n",
       "      <td>1,0663</td>\n",
       "      <td>5,6876999999999995</td>\n",
       "      <td>5,6905</td>\n",
       "      <td>2023-01-02 13:05:57.582</td>\n",
       "      <td>Intermediário</td>\n",
       "    </tr>\n",
       "    <tr>\n",
       "      <th>4</th>\n",
       "      <td>1,0659</td>\n",
       "      <td>1,0663</td>\n",
       "      <td>5,6951</td>\n",
       "      <td>5,6979</td>\n",
       "      <td>2023-01-02 13:05:57.593</td>\n",
       "      <td>Fechamento</td>\n",
       "    </tr>\n",
       "  </tbody>\n",
       "</table>\n",
       "</div>"
      ],
      "text/plain": [
       "  Paridade_compra_Euro-USD Paridade_venda_Euro-USD Cotacao_compra_Euro  \\\n",
       "0                   1,0682                  1,0683              5,6994   \n",
       "1                   1,0677                  1,0681              5,7163   \n",
       "2                   1,0671                  1,0675              5,7054   \n",
       "3                   1,0659                  1,0663  5,6876999999999995   \n",
       "4                   1,0659                  1,0663              5,6951   \n",
       "\n",
       "  Cotacao_compra_Euro        Data_hora_cotacao    tipoBoletim  \n",
       "0              5,7006  2023-01-02 10:11:18.511       Abertura  \n",
       "1               5,719  2023-01-02 11:05:17.032  Intermediário  \n",
       "2              5,7081  2023-01-02 12:10:16.594  Intermediário  \n",
       "3              5,6905  2023-01-02 13:05:57.582  Intermediário  \n",
       "4              5,6979  2023-01-02 13:05:57.593     Fechamento  "
      ]
     },
     "execution_count": 2,
     "metadata": {},
     "output_type": "execute_result"
    }
   ],
   "source": [
    "# Dicionário de mapeamento (inglês para português simplificado)\n",
    "mapeamento_colunas = {\n",
    "    'paridadeCompra': 'Paridade_compra_Euro-USD',\n",
    "    'paridadeVenda': 'Paridade_venda_Euro-USD',\n",
    "    'cotacaoCompra': 'Cotacao_compra_Euro',\n",
    "    'cotacaoVenda': 'Cotacao_compra_Euro',\n",
    "    'dataHoraCotacao': 'Data_hora_cotacao',\n",
    "    'tipBoletim': 'Tipo_boletim'\n",
    "}\n",
    "\n",
    "# Renomear as colunas\n",
    "df = df.rename(columns=mapeamento_colunas)\n",
    "\n",
    "# Verificar o resultado\n",
    "df.head()"
   ]
  },
  {
   "cell_type": "markdown",
   "id": "8cdd81d0",
   "metadata": {},
   "source": [
    "## 2. Análise do conjunto de dados"
   ]
  },
  {
   "cell_type": "markdown",
   "id": "f17d4495",
   "metadata": {},
   "source": [
    "Verificação de dados faltantes no conjunto de dados"
   ]
  },
  {
   "cell_type": "code",
   "execution_count": 3,
   "id": "259cdf9d",
   "metadata": {},
   "outputs": [
    {
     "name": "stdout",
     "output_type": "stream",
     "text": [
      "Dados faltantes por coluna:\n",
      "Paridade_compra_Euro-USD    0\n",
      "Paridade_venda_Euro-USD     0\n",
      "Cotacao_compra_Euro         0\n",
      "Cotacao_compra_Euro         0\n",
      "Data_hora_cotacao           0\n",
      "tipoBoletim                 0\n",
      "dtype: int64\n"
     ]
    }
   ],
   "source": [
    "dados_faltantes = df.isnull().sum()\n",
    "\n",
    "# Verificar se há dados faltantes\n",
    "print(\"Dados faltantes por coluna:\")\n",
    "print(dados_faltantes)"
   ]
  },
  {
   "cell_type": "code",
   "execution_count": 4,
   "id": "f55d3f17",
   "metadata": {},
   "outputs": [
    {
     "name": "stdout",
     "output_type": "stream",
     "text": [
      "<class 'pandas.core.frame.DataFrame'>\n",
      "RangeIndex: 1000 entries, 0 to 999\n",
      "Data columns (total 6 columns):\n",
      " #   Column                    Non-Null Count  Dtype \n",
      "---  ------                    --------------  ----- \n",
      " 0   Paridade_compra_Euro-USD  1000 non-null   object\n",
      " 1   Paridade_venda_Euro-USD   1000 non-null   object\n",
      " 2   Cotacao_compra_Euro       1000 non-null   object\n",
      " 3   Cotacao_compra_Euro       1000 non-null   object\n",
      " 4   Data_hora_cotacao         1000 non-null   object\n",
      " 5   tipoBoletim               1000 non-null   object\n",
      "dtypes: object(6)\n",
      "memory usage: 47.0+ KB\n"
     ]
    }
   ],
   "source": [
    "#É possível verificar o tipo de dado de cada coluna\n",
    "df.info()"
   ]
  }
 ],
 "metadata": {
  "kernelspec": {
   "display_name": ".venv",
   "language": "python",
   "name": "python3"
  },
  "language_info": {
   "codemirror_mode": {
    "name": "ipython",
    "version": 3
   },
   "file_extension": ".py",
   "mimetype": "text/x-python",
   "name": "python",
   "nbconvert_exporter": "python",
   "pygments_lexer": "ipython3",
   "version": "3.12.10"
  }
 },
 "nbformat": 4,
 "nbformat_minor": 5
}
