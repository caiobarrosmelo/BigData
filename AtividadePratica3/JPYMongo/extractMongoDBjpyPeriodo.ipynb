{
 "cells": [
  {
   "cell_type": "markdown",
   "id": "912e4348",
   "metadata": {},
   "source": [
    "\n",
    "### Atividade Prática 3 - MongoDB\n",
    "\n",
    "1. Extrair os dados da API do Banco Central (Atividades 3 e 4).\n",
    "\n",
    "2. Criar um banco de dados no MongoDB Atlas e as respectivas \n",
    "coleções para armazenar os recursos retornados pela API.\n",
    "\n",
    "3. Inserir no banco e nas coleções criadas os dados extraídos da API.\n",
    "\n",
    "O MongoDB é um banco orientado a documentos, \n",
    "portanto os registros devem estar em formato JSON.\n"
   ]
  },
  {
   "cell_type": "code",
   "execution_count": 1,
   "id": "e9f3044a",
   "metadata": {},
   "outputs": [],
   "source": [
    "import requests\n",
    "import json\n",
    "import pymongo\n",
    "import pandas as pd"
   ]
  },
  {
   "cell_type": "code",
   "execution_count": 2,
   "id": "0296a364",
   "metadata": {},
   "outputs": [],
   "source": [
    "from pymongo import MongoClient"
   ]
  },
  {
   "cell_type": "markdown",
   "id": "fdaffe04",
   "metadata": {},
   "source": [
    "### 1. Conectando ao MongoDB Atlas\n"
   ]
  },
  {
   "cell_type": "markdown",
   "id": "22658ee0",
   "metadata": {},
   "source": [
    "1. Entrar no MongoDB Atlas;\n",
    "2. Criar um Cluster gratuito (se ainda não tiver);\n",
    "3. Clicar em Connect > Connect your application."
   ]
  },
  {
   "cell_type": "code",
   "execution_count": null,
   "id": "45b694ac",
   "metadata": {},
   "outputs": [],
   "source": [
    "# Colar aqui a string de conexão do Atlas: NÃO COMPARTILHE SEU USUÁRIO E SENHA\n",
    "MONGO_URI = \"\"\n",
    "\n",
    "# Criar conexão\n",
    "client = MongoClient(MONGO_URI)"
   ]
  },
  {
   "cell_type": "markdown",
   "id": "3cc7b059",
   "metadata": {},
   "source": [
    "### 2. Definindo URL para requisição da API"
   ]
  },
  {
   "cell_type": "code",
   "execution_count": 4,
   "id": "557d9b60",
   "metadata": {},
   "outputs": [],
   "source": [
    "url = \"https://olinda.bcb.gov.br/olinda/servico/PTAX/versao/v1/odata/CotacaoMoedaPeriodo(moeda=@moeda,dataInicial=@dataInicial,dataFinalCotacao=@dataFinalCotacao)?@moeda='JPY'&@dataInicial='01-01-2023'&@dataFinalCotacao='09-01-2025'&$top=1000&$format=json&$select=paridadeCompra,paridadeVenda,cotacaoCompra,cotacaoVenda,dataHoraCotacao,tipoBoletim\""
   ]
  },
  {
   "cell_type": "markdown",
   "id": "da0b332b",
   "metadata": {},
   "source": [
    "### 3. Criando a função para fazer a requisição e salvar o JSON na pasta Datasets"
   ]
  },
  {
   "cell_type": "code",
   "execution_count": 5,
   "id": "f13bceb8",
   "metadata": {},
   "outputs": [],
   "source": [
    "def requisicao_api(link):\n",
    "  resposta = requests.get(link)\n",
    "\n",
    "  if resposta.status_code == 200:      #sucesso na requisição\n",
    "    dados = resposta.json()\n",
    "    print('Status Code:', resposta.status_code)\n",
    "    with open('datasetsJPY/jpyPeriodo.json', 'w', encoding='utf-8') as arquivo:   #salvar arquivo json\n",
    "      json.dump(dados, arquivo, ensure_ascii=False, indent=4)\n",
    "\n",
    "  else:\n",
    "    print('Status Code:', resposta.status_code)"
   ]
  },
  {
   "cell_type": "markdown",
   "id": "5aa33d00",
   "metadata": {},
   "source": [
    "### 4. Executando a função para buscar os dados"
   ]
  },
  {
   "cell_type": "code",
   "execution_count": 6,
   "id": "48622395",
   "metadata": {},
   "outputs": [
    {
     "name": "stdout",
     "output_type": "stream",
     "text": [
      "Status Code: 200\n"
     ]
    }
   ],
   "source": [
    "requisicao_api (url)"
   ]
  },
  {
   "cell_type": "markdown",
   "id": "d670f41b",
   "metadata": {},
   "source": [
    "### 5. Lendo o arquivo JSON salvo e transformando em DataFrame"
   ]
  },
  {
   "cell_type": "code",
   "execution_count": 7,
   "id": "41dce66b",
   "metadata": {},
   "outputs": [],
   "source": [
    "jsondata = pd.read_json('datasetsJPY/jpyPeriodo.json')\n",
    "\n",
    "dados_df = pd.json_normalize(jsondata['value'])"
   ]
  },
  {
   "cell_type": "markdown",
   "id": "f2b4b29b",
   "metadata": {},
   "source": [
    "### 6. Visualizando as primeiras linhas do DataFrame"
   ]
  },
  {
   "cell_type": "code",
   "execution_count": 8,
   "id": "81937d9f",
   "metadata": {},
   "outputs": [
    {
     "data": {
      "application/vnd.microsoft.datawrangler.viewer.v0+json": {
       "columns": [
        {
         "name": "index",
         "rawType": "int64",
         "type": "integer"
        },
        {
         "name": "paridadeCompra",
         "rawType": "float64",
         "type": "float"
        },
        {
         "name": "paridadeVenda",
         "rawType": "float64",
         "type": "float"
        },
        {
         "name": "cotacaoCompra",
         "rawType": "float64",
         "type": "float"
        },
        {
         "name": "cotacaoVenda",
         "rawType": "float64",
         "type": "float"
        },
        {
         "name": "dataHoraCotacao",
         "rawType": "object",
         "type": "string"
        },
        {
         "name": "tipoBoletim",
         "rawType": "object",
         "type": "string"
        }
       ],
       "ref": "acc29584-f0d1-4127-b922-2a4c555069e9",
       "rows": [
        [
         "0",
         "130.72",
         "130.75",
         "0.040810000000000006",
         "0.04082",
         "2023-01-02 10:11:18.511",
         "Abertura"
        ],
        [
         "1",
         "130.64",
         "130.66",
         "0.04098",
         "0.040990000000000006",
         "2023-01-02 11:05:17.032",
         "Intermediário"
        ],
        [
         "2",
         "130.72",
         "130.75",
         "0.04089",
         "0.04091",
         "2023-01-02 12:10:16.594",
         "Intermediário"
        ],
        [
         "3",
         "130.78",
         "130.81",
         "0.04079",
         "0.040810000000000006",
         "2023-01-02 13:05:57.582",
         "Intermediário"
        ],
        [
         "4",
         "130.78",
         "130.81",
         "0.040850000000000004",
         "0.04086",
         "2023-01-02 13:05:57.593",
         "Fechamento"
        ]
       ],
       "shape": {
        "columns": 6,
        "rows": 5
       }
      },
      "text/html": [
       "<div>\n",
       "<style scoped>\n",
       "    .dataframe tbody tr th:only-of-type {\n",
       "        vertical-align: middle;\n",
       "    }\n",
       "\n",
       "    .dataframe tbody tr th {\n",
       "        vertical-align: top;\n",
       "    }\n",
       "\n",
       "    .dataframe thead th {\n",
       "        text-align: right;\n",
       "    }\n",
       "</style>\n",
       "<table border=\"1\" class=\"dataframe\">\n",
       "  <thead>\n",
       "    <tr style=\"text-align: right;\">\n",
       "      <th></th>\n",
       "      <th>paridadeCompra</th>\n",
       "      <th>paridadeVenda</th>\n",
       "      <th>cotacaoCompra</th>\n",
       "      <th>cotacaoVenda</th>\n",
       "      <th>dataHoraCotacao</th>\n",
       "      <th>tipoBoletim</th>\n",
       "    </tr>\n",
       "  </thead>\n",
       "  <tbody>\n",
       "    <tr>\n",
       "      <th>0</th>\n",
       "      <td>130.72</td>\n",
       "      <td>130.75</td>\n",
       "      <td>0.04081</td>\n",
       "      <td>0.04082</td>\n",
       "      <td>2023-01-02 10:11:18.511</td>\n",
       "      <td>Abertura</td>\n",
       "    </tr>\n",
       "    <tr>\n",
       "      <th>1</th>\n",
       "      <td>130.64</td>\n",
       "      <td>130.66</td>\n",
       "      <td>0.04098</td>\n",
       "      <td>0.04099</td>\n",
       "      <td>2023-01-02 11:05:17.032</td>\n",
       "      <td>Intermediário</td>\n",
       "    </tr>\n",
       "    <tr>\n",
       "      <th>2</th>\n",
       "      <td>130.72</td>\n",
       "      <td>130.75</td>\n",
       "      <td>0.04089</td>\n",
       "      <td>0.04091</td>\n",
       "      <td>2023-01-02 12:10:16.594</td>\n",
       "      <td>Intermediário</td>\n",
       "    </tr>\n",
       "    <tr>\n",
       "      <th>3</th>\n",
       "      <td>130.78</td>\n",
       "      <td>130.81</td>\n",
       "      <td>0.04079</td>\n",
       "      <td>0.04081</td>\n",
       "      <td>2023-01-02 13:05:57.582</td>\n",
       "      <td>Intermediário</td>\n",
       "    </tr>\n",
       "    <tr>\n",
       "      <th>4</th>\n",
       "      <td>130.78</td>\n",
       "      <td>130.81</td>\n",
       "      <td>0.04085</td>\n",
       "      <td>0.04086</td>\n",
       "      <td>2023-01-02 13:05:57.593</td>\n",
       "      <td>Fechamento</td>\n",
       "    </tr>\n",
       "  </tbody>\n",
       "</table>\n",
       "</div>"
      ],
      "text/plain": [
       "   paridadeCompra  paridadeVenda  cotacaoCompra  cotacaoVenda  \\\n",
       "0          130.72         130.75        0.04081       0.04082   \n",
       "1          130.64         130.66        0.04098       0.04099   \n",
       "2          130.72         130.75        0.04089       0.04091   \n",
       "3          130.78         130.81        0.04079       0.04081   \n",
       "4          130.78         130.81        0.04085       0.04086   \n",
       "\n",
       "           dataHoraCotacao    tipoBoletim  \n",
       "0  2023-01-02 10:11:18.511       Abertura  \n",
       "1  2023-01-02 11:05:17.032  Intermediário  \n",
       "2  2023-01-02 12:10:16.594  Intermediário  \n",
       "3  2023-01-02 13:05:57.582  Intermediário  \n",
       "4  2023-01-02 13:05:57.593     Fechamento  "
      ]
     },
     "execution_count": 8,
     "metadata": {},
     "output_type": "execute_result"
    }
   ],
   "source": [
    "dados_df.head()"
   ]
  },
  {
   "cell_type": "markdown",
   "id": "517960eb",
   "metadata": {},
   "source": [
    "### 7. Função para salvar o JSON numa Coleção MongoDB Atlas"
   ]
  },
  {
   "cell_type": "code",
   "execution_count": 9,
   "id": "541d14ff",
   "metadata": {},
   "outputs": [
    {
     "name": "stdout",
     "output_type": "stream",
     "text": [
      "1000 registros inseridos na coleção.\n"
     ]
    }
   ],
   "source": [
    "db = client['db_cambio']  # criar banco de dados\n",
    "colecao = db['cotacao_jpy_periodo']  # criar coleção\n",
    "\n",
    "def salvar_mongodb(dados):\n",
    "    registros = dados.to_dict(orient='records')  # converter DataFrame para lista de dicionários\n",
    "    colecao.insert_many(registros)  # inserir múltiplos documentos na coleção\n",
    "    print(f'{len(registros)} registros inseridos na coleção.')\n",
    "salvar_mongodb(dados_df)\n",
    "\n"
   ]
  }
 ],
 "metadata": {
  "kernelspec": {
   "display_name": ".venv",
   "language": "python",
   "name": "python3"
  },
  "language_info": {
   "codemirror_mode": {
    "name": "ipython",
    "version": 3
   },
   "file_extension": ".py",
   "mimetype": "text/x-python",
   "name": "python",
   "nbconvert_exporter": "python",
   "pygments_lexer": "ipython3",
   "version": "3.12.10"
  }
 },
 "nbformat": 4,
 "nbformat_minor": 5
}
