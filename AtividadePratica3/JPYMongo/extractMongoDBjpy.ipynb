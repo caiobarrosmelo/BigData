{
 "cells": [
  {
   "cell_type": "markdown",
   "id": "912e4348",
   "metadata": {},
   "source": [
    "\n",
    "### Atividade Prática 3 - MongoDB\n",
    "\n",
    "1. Extrair os dados da API do Banco Central (Atividades 3 e 4).\n",
    "\n",
    "2. Criar um banco de dados no MongoDB Atlas e as respectivas \n",
    "coleções para armazenar os recursos retornados pela API.\n",
    "\n",
    "3. Inserir no banco e nas coleções criadas os dados extraídos da API.\n",
    "\n",
    "O MongoDB é um banco orientado a documentos, \n",
    "portanto os registros devem estar em formato JSON.\n"
   ]
  },
  {
   "cell_type": "code",
   "execution_count": 1,
   "id": "e9f3044a",
   "metadata": {},
   "outputs": [],
   "source": [
    "import requests\n",
    "import json\n",
    "import pymongo\n",
    "import pandas as pd"
   ]
  },
  {
   "cell_type": "code",
   "execution_count": 2,
   "id": "0296a364",
   "metadata": {},
   "outputs": [],
   "source": [
    "from pymongo import MongoClient"
   ]
  },
  {
   "cell_type": "markdown",
   "id": "fdaffe04",
   "metadata": {},
   "source": [
    "### 1. Conectando ao MongoDB Atlas\n"
   ]
  },
  {
   "cell_type": "markdown",
   "id": "22658ee0",
   "metadata": {},
   "source": [
    "1. Entrar no MongoDB Atlas;\n",
    "2. Criar um Cluster gratuito (se ainda não tiver);\n",
    "3. Clicar em Connect > Connect your application."
   ]
  },
  {
   "cell_type": "code",
   "execution_count": null,
   "id": "45b694ac",
   "metadata": {},
   "outputs": [],
   "source": [
    "# Colar aqui a string de conexão do Atlas: NÃO COMPARTILHE SEU USUÁRIO E SENHA\n",
    "MONGO_URI = \"\"\n",
    "\n",
    "# Criar conexão\n",
    "client = MongoClient(MONGO_URI)"
   ]
  },
  {
   "cell_type": "markdown",
   "id": "3cc7b059",
   "metadata": {},
   "source": [
    "### 2. Definindo URL para requisição da API"
   ]
  },
  {
   "cell_type": "code",
   "execution_count": 4,
   "id": "557d9b60",
   "metadata": {},
   "outputs": [],
   "source": [
    "url = \"https://olinda.bcb.gov.br/olinda/servico/PTAX/versao/v1/odata/CotacaoMoedaDia(moeda=@moeda,dataCotacao=@dataCotacao)?@moeda='JPY'&@dataCotacao='03-06-2006'&$top=1000&$format=json&$select=paridadeCompra,paridadeVenda,cotacaoCompra,cotacaoVenda,dataHoraCotacao,tipoBoletim\""
   ]
  },
  {
   "cell_type": "markdown",
   "id": "da0b332b",
   "metadata": {},
   "source": [
    "### 3. Criando a função para fazer a requisição e salvar o JSON na pasta Datasets"
   ]
  },
  {
   "cell_type": "code",
   "execution_count": 5,
   "id": "f13bceb8",
   "metadata": {},
   "outputs": [],
   "source": [
    "def requisicao_api(link):\n",
    "  resposta = requests.get(link)\n",
    "\n",
    "  if resposta.status_code == 200:      #sucesso na requisição\n",
    "    dados = resposta.json()\n",
    "    print('Status Code:', resposta.status_code)\n",
    "    with open('datasetsJPY/jpyDia.json', 'w', encoding='utf-8') as arquivo:   #salvar arquivo json\n",
    "      json.dump(dados, arquivo, ensure_ascii=False, indent=4)\n",
    "\n",
    "  else:\n",
    "    print('Status Code:', resposta.status_code)"
   ]
  },
  {
   "cell_type": "markdown",
   "id": "5aa33d00",
   "metadata": {},
   "source": [
    "### 4. Executando a função para buscar os dados"
   ]
  },
  {
   "cell_type": "code",
   "execution_count": 6,
   "id": "48622395",
   "metadata": {},
   "outputs": [
    {
     "name": "stdout",
     "output_type": "stream",
     "text": [
      "Status Code: 200\n"
     ]
    }
   ],
   "source": [
    "requisicao_api (url)"
   ]
  },
  {
   "cell_type": "markdown",
   "id": "d670f41b",
   "metadata": {},
   "source": [
    "### 5. Lendo o arquivo JSON salvo e transformando em DataFrame"
   ]
  },
  {
   "cell_type": "code",
   "execution_count": 7,
   "id": "41dce66b",
   "metadata": {},
   "outputs": [],
   "source": [
    "jsondata = pd.read_json('datasetsJPY/jpyDia.json')\n",
    "\n",
    "dados_df = pd.json_normalize(jsondata['value'])"
   ]
  },
  {
   "cell_type": "markdown",
   "id": "f2b4b29b",
   "metadata": {},
   "source": [
    "### 6. Visualizando as primeiras linhas do DataFrame"
   ]
  },
  {
   "cell_type": "code",
   "execution_count": 8,
   "id": "81937d9f",
   "metadata": {},
   "outputs": [
    {
     "data": {
      "application/vnd.microsoft.datawrangler.viewer.v0+json": {
       "columns": [
        {
         "name": "index",
         "rawType": "int64",
         "type": "integer"
        },
        {
         "name": "paridadeCompra",
         "rawType": "float64",
         "type": "float"
        },
        {
         "name": "paridadeVenda",
         "rawType": "float64",
         "type": "float"
        },
        {
         "name": "cotacaoCompra",
         "rawType": "float64",
         "type": "float"
        },
        {
         "name": "cotacaoVenda",
         "rawType": "float64",
         "type": "float"
        },
        {
         "name": "dataHoraCotacao",
         "rawType": "object",
         "type": "string"
        },
        {
         "name": "tipoBoletim",
         "rawType": "object",
         "type": "string"
        }
       ],
       "ref": "28bbcf5b-4f96-4232-b620-c4fbda595f4d",
       "rows": [
        [
         "0",
         "117.097",
         "117.13",
         "0.01804",
         "0.01813",
         "2006-03-06 09:19:00.0",
         "Abertura"
        ],
        [
         "1",
         "117.165",
         "117.205",
         "0.0181",
         "0.01813",
         "2006-03-06 09:30:00.0",
         "Intermediário"
        ],
        [
         "2",
         "117.221",
         "117.311",
         "0.018090000000000002",
         "0.01812",
         "2006-03-06 10:00:00.0",
         "Intermediário"
        ],
        [
         "3",
         "117.44",
         "117.46",
         "0.018060000000000003",
         "0.018080000000000002",
         "2006-03-06 10:30:00.0",
         "Intermediário"
        ],
        [
         "4",
         "117.46",
         "117.48",
         "0.01805",
         "0.018060000000000003",
         "2006-03-06 11:00:00.0",
         "Intermediário"
        ]
       ],
       "shape": {
        "columns": 6,
        "rows": 5
       }
      },
      "text/html": [
       "<div>\n",
       "<style scoped>\n",
       "    .dataframe tbody tr th:only-of-type {\n",
       "        vertical-align: middle;\n",
       "    }\n",
       "\n",
       "    .dataframe tbody tr th {\n",
       "        vertical-align: top;\n",
       "    }\n",
       "\n",
       "    .dataframe thead th {\n",
       "        text-align: right;\n",
       "    }\n",
       "</style>\n",
       "<table border=\"1\" class=\"dataframe\">\n",
       "  <thead>\n",
       "    <tr style=\"text-align: right;\">\n",
       "      <th></th>\n",
       "      <th>paridadeCompra</th>\n",
       "      <th>paridadeVenda</th>\n",
       "      <th>cotacaoCompra</th>\n",
       "      <th>cotacaoVenda</th>\n",
       "      <th>dataHoraCotacao</th>\n",
       "      <th>tipoBoletim</th>\n",
       "    </tr>\n",
       "  </thead>\n",
       "  <tbody>\n",
       "    <tr>\n",
       "      <th>0</th>\n",
       "      <td>117.097</td>\n",
       "      <td>117.130</td>\n",
       "      <td>0.01804</td>\n",
       "      <td>0.01813</td>\n",
       "      <td>2006-03-06 09:19:00.0</td>\n",
       "      <td>Abertura</td>\n",
       "    </tr>\n",
       "    <tr>\n",
       "      <th>1</th>\n",
       "      <td>117.165</td>\n",
       "      <td>117.205</td>\n",
       "      <td>0.01810</td>\n",
       "      <td>0.01813</td>\n",
       "      <td>2006-03-06 09:30:00.0</td>\n",
       "      <td>Intermediário</td>\n",
       "    </tr>\n",
       "    <tr>\n",
       "      <th>2</th>\n",
       "      <td>117.221</td>\n",
       "      <td>117.311</td>\n",
       "      <td>0.01809</td>\n",
       "      <td>0.01812</td>\n",
       "      <td>2006-03-06 10:00:00.0</td>\n",
       "      <td>Intermediário</td>\n",
       "    </tr>\n",
       "    <tr>\n",
       "      <th>3</th>\n",
       "      <td>117.440</td>\n",
       "      <td>117.460</td>\n",
       "      <td>0.01806</td>\n",
       "      <td>0.01808</td>\n",
       "      <td>2006-03-06 10:30:00.0</td>\n",
       "      <td>Intermediário</td>\n",
       "    </tr>\n",
       "    <tr>\n",
       "      <th>4</th>\n",
       "      <td>117.460</td>\n",
       "      <td>117.480</td>\n",
       "      <td>0.01805</td>\n",
       "      <td>0.01806</td>\n",
       "      <td>2006-03-06 11:00:00.0</td>\n",
       "      <td>Intermediário</td>\n",
       "    </tr>\n",
       "  </tbody>\n",
       "</table>\n",
       "</div>"
      ],
      "text/plain": [
       "   paridadeCompra  paridadeVenda  cotacaoCompra  cotacaoVenda  \\\n",
       "0         117.097        117.130        0.01804       0.01813   \n",
       "1         117.165        117.205        0.01810       0.01813   \n",
       "2         117.221        117.311        0.01809       0.01812   \n",
       "3         117.440        117.460        0.01806       0.01808   \n",
       "4         117.460        117.480        0.01805       0.01806   \n",
       "\n",
       "         dataHoraCotacao    tipoBoletim  \n",
       "0  2006-03-06 09:19:00.0       Abertura  \n",
       "1  2006-03-06 09:30:00.0  Intermediário  \n",
       "2  2006-03-06 10:00:00.0  Intermediário  \n",
       "3  2006-03-06 10:30:00.0  Intermediário  \n",
       "4  2006-03-06 11:00:00.0  Intermediário  "
      ]
     },
     "execution_count": 8,
     "metadata": {},
     "output_type": "execute_result"
    }
   ],
   "source": [
    "dados_df.head()"
   ]
  },
  {
   "cell_type": "markdown",
   "id": "517960eb",
   "metadata": {},
   "source": [
    "### 7. Função para salvar o JSON numa Coleção MongoDB Atlas"
   ]
  },
  {
   "cell_type": "code",
   "execution_count": 9,
   "id": "541d14ff",
   "metadata": {},
   "outputs": [
    {
     "name": "stdout",
     "output_type": "stream",
     "text": [
      "17 registros inseridos na coleção.\n"
     ]
    }
   ],
   "source": [
    "db = client['db_cambio']  # criar banco de dados\n",
    "colecao = db['cotacao_jpy_dia']  # criar coleção\n",
    "\n",
    "def salvar_mongodb(dados):\n",
    "    registros = dados.to_dict(orient='records')  # converter DataFrame para lista de dicionários\n",
    "    colecao.insert_many(registros)  # inserir múltiplos documentos na coleção\n",
    "    print(f'{len(registros)} registros inseridos na coleção.')\n",
    "salvar_mongodb(dados_df)\n",
    "\n"
   ]
  }
 ],
 "metadata": {
  "kernelspec": {
   "display_name": ".venv",
   "language": "python",
   "name": "python3"
  },
  "language_info": {
   "codemirror_mode": {
    "name": "ipython",
    "version": 3
   },
   "file_extension": ".py",
   "mimetype": "text/x-python",
   "name": "python",
   "nbconvert_exporter": "python",
   "pygments_lexer": "ipython3",
   "version": "3.12.10"
  }
 },
 "nbformat": 4,
 "nbformat_minor": 5
}
