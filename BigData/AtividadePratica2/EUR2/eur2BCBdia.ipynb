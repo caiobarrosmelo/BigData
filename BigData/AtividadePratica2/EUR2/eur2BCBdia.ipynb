{
 "cells": [
  {
   "cell_type": "markdown",
   "id": "35e51864",
   "metadata": {},
   "source": [
    "## 1. Coleta de Dados"
   ]
  },
  {
   "cell_type": "code",
   "execution_count": 1,
   "id": "8b5c9eee",
   "metadata": {},
   "outputs": [
    {
     "data": {
      "application/vnd.microsoft.datawrangler.viewer.v0+json": {
       "columns": [
        {
         "name": "index",
         "rawType": "int64",
         "type": "integer"
        },
        {
         "name": "paridadeCompra",
         "rawType": "object",
         "type": "string"
        },
        {
         "name": "paridadeVenda",
         "rawType": "object",
         "type": "string"
        },
        {
         "name": "cotacaoCompra",
         "rawType": "object",
         "type": "string"
        },
        {
         "name": "cotacaoVenda",
         "rawType": "object",
         "type": "string"
        },
        {
         "name": "dataHoraCotacao",
         "rawType": "object",
         "type": "string"
        },
        {
         "name": "tipoBoletim",
         "rawType": "object",
         "type": "string"
        }
       ],
       "ref": "a136fd3d-3ea6-44cc-a8d6-167f9758fd6a",
       "rows": [
        [
         "0",
         "1,2031",
         "1,2035",
         "2,54215",
         "2,55503",
         "2006-03-06 09:19:00.0",
         "Abertura"
        ],
        [
         "1",
         "1,2026",
         "1,2028",
         "2,55071",
         "2,5547500000000003",
         "2006-03-06 09:30:00.0",
         "Intermediário"
        ],
        [
         "2",
         "1,2021",
         "1,2023",
         "2,55086",
         "2,55369",
         "2006-03-06 10:00:00.0",
         "Intermediário"
        ],
        [
         "3",
         "1,2019",
         "1,2018",
         "2,54923",
         "2,5514200000000002",
         "2006-03-06 10:30:00.0",
         "Intermediário"
        ],
        [
         "4",
         "1,202",
         "1,2021",
         "2,54824",
         "2,54965",
         "2006-03-06 11:00:00.0",
         "Intermediário"
        ]
       ],
       "shape": {
        "columns": 6,
        "rows": 5
       }
      },
      "text/html": [
       "<div>\n",
       "<style scoped>\n",
       "    .dataframe tbody tr th:only-of-type {\n",
       "        vertical-align: middle;\n",
       "    }\n",
       "\n",
       "    .dataframe tbody tr th {\n",
       "        vertical-align: top;\n",
       "    }\n",
       "\n",
       "    .dataframe thead th {\n",
       "        text-align: right;\n",
       "    }\n",
       "</style>\n",
       "<table border=\"1\" class=\"dataframe\">\n",
       "  <thead>\n",
       "    <tr style=\"text-align: right;\">\n",
       "      <th></th>\n",
       "      <th>paridadeCompra</th>\n",
       "      <th>paridadeVenda</th>\n",
       "      <th>cotacaoCompra</th>\n",
       "      <th>cotacaoVenda</th>\n",
       "      <th>dataHoraCotacao</th>\n",
       "      <th>tipoBoletim</th>\n",
       "    </tr>\n",
       "  </thead>\n",
       "  <tbody>\n",
       "    <tr>\n",
       "      <th>0</th>\n",
       "      <td>1,2031</td>\n",
       "      <td>1,2035</td>\n",
       "      <td>2,54215</td>\n",
       "      <td>2,55503</td>\n",
       "      <td>2006-03-06 09:19:00.0</td>\n",
       "      <td>Abertura</td>\n",
       "    </tr>\n",
       "    <tr>\n",
       "      <th>1</th>\n",
       "      <td>1,2026</td>\n",
       "      <td>1,2028</td>\n",
       "      <td>2,55071</td>\n",
       "      <td>2,5547500000000003</td>\n",
       "      <td>2006-03-06 09:30:00.0</td>\n",
       "      <td>Intermediário</td>\n",
       "    </tr>\n",
       "    <tr>\n",
       "      <th>2</th>\n",
       "      <td>1,2021</td>\n",
       "      <td>1,2023</td>\n",
       "      <td>2,55086</td>\n",
       "      <td>2,55369</td>\n",
       "      <td>2006-03-06 10:00:00.0</td>\n",
       "      <td>Intermediário</td>\n",
       "    </tr>\n",
       "    <tr>\n",
       "      <th>3</th>\n",
       "      <td>1,2019</td>\n",
       "      <td>1,2018</td>\n",
       "      <td>2,54923</td>\n",
       "      <td>2,5514200000000002</td>\n",
       "      <td>2006-03-06 10:30:00.0</td>\n",
       "      <td>Intermediário</td>\n",
       "    </tr>\n",
       "    <tr>\n",
       "      <th>4</th>\n",
       "      <td>1,202</td>\n",
       "      <td>1,2021</td>\n",
       "      <td>2,54824</td>\n",
       "      <td>2,54965</td>\n",
       "      <td>2006-03-06 11:00:00.0</td>\n",
       "      <td>Intermediário</td>\n",
       "    </tr>\n",
       "  </tbody>\n",
       "</table>\n",
       "</div>"
      ],
      "text/plain": [
       "  paridadeCompra paridadeVenda cotacaoCompra        cotacaoVenda  \\\n",
       "0         1,2031        1,2035       2,54215             2,55503   \n",
       "1         1,2026        1,2028       2,55071  2,5547500000000003   \n",
       "2         1,2021        1,2023       2,55086             2,55369   \n",
       "3         1,2019        1,2018       2,54923  2,5514200000000002   \n",
       "4          1,202        1,2021       2,54824             2,54965   \n",
       "\n",
       "         dataHoraCotacao    tipoBoletim  \n",
       "0  2006-03-06 09:19:00.0       Abertura  \n",
       "1  2006-03-06 09:30:00.0  Intermediário  \n",
       "2  2006-03-06 10:00:00.0  Intermediário  \n",
       "3  2006-03-06 10:30:00.0  Intermediário  \n",
       "4  2006-03-06 11:00:00.0  Intermediário  "
      ]
     },
     "execution_count": 1,
     "metadata": {},
     "output_type": "execute_result"
    }
   ],
   "source": [
    "import pandas as pd\n",
    "\n",
    "# Carregar o dataset\n",
    "df = pd.read_csv('../../AtividadePratica1/EUR/datasetsEUR/eur_dia_csv.csv', sep=';')\n",
    "# Exibir as primeiras linhas do DataFrame\n",
    "df.head()\n"
   ]
  },
  {
   "cell_type": "markdown",
   "id": "f76bbf3f",
   "metadata": {},
   "source": [
    "- Com base na descrição fornecida pelo BCB, as colunas serão renomeadas para facilitação do entendimento. A moeda de referência para comparação será o dólar americano (USD).\n",
    "\n",
    "    1. paridadeCompra: Paridade de compra Euro-USD.\n",
    "\n",
    "        → Moedas tipo A: USD/[moeda], Moedas tipo B: [moeda]/USD.\n",
    "\n",
    "    2. paridadeVenda: Paridade de venda Euro-USD.\n",
    "\n",
    "        → Moedas tipo A: USD/[moeda], Moedas tipo B: [moeda]/USD.\n",
    "\n",
    "    3. cotacaoCompra: Cotação de compra Euro contra a unidade monetária corrente.\n",
    "\n",
    "        → Fórmula: unidade monetária corrente/[moeda].\n",
    "\n",
    "    4. cotacaoVenda: Cotação de venda Euro contra a unidade monetária corrente.\n",
    "\n",
    "        → Fórmula: unidade monetária corrente/[moeda].\n",
    "\n",
    "    5. dataHoraCotacao: Data e hora da cotação.\n",
    "\n",
    "        → Inclui data, hora e minuto das paridades e cotações.\n",
    "\n",
    "    6. tipoBoletim: Tipo do boletim que gerou os dados.\n",
    "\n",
    "        → Pode ser: Abertura, Intermediário, Fechamento Interbancário ou Fechamento."
   ]
  },
  {
   "cell_type": "code",
   "execution_count": 2,
   "id": "e5188511",
   "metadata": {},
   "outputs": [
    {
     "data": {
      "application/vnd.microsoft.datawrangler.viewer.v0+json": {
       "columns": [
        {
         "name": "index",
         "rawType": "int64",
         "type": "integer"
        },
        {
         "name": "Paridade_compra_Euro-USD",
         "rawType": "object",
         "type": "string"
        },
        {
         "name": "Paridade_venda_Euro-USD",
         "rawType": "object",
         "type": "string"
        },
        {
         "name": "Cotacao_compra_Euro",
         "rawType": "object",
         "type": "string"
        },
        {
         "name": "Cotacao_compra_Euro",
         "rawType": "object",
         "type": "string"
        },
        {
         "name": "Data_hora_cotacao",
         "rawType": "object",
         "type": "string"
        },
        {
         "name": "tipoBoletim",
         "rawType": "object",
         "type": "string"
        }
       ],
       "ref": "d7d2d545-e11f-40e4-b0ca-672cf1aea6da",
       "rows": [
        [
         "0",
         "1,2031",
         "1,2035",
         "2,54215",
         "2,55503",
         "2006-03-06 09:19:00.0",
         "Abertura"
        ],
        [
         "1",
         "1,2026",
         "1,2028",
         "2,55071",
         "2,5547500000000003",
         "2006-03-06 09:30:00.0",
         "Intermediário"
        ],
        [
         "2",
         "1,2021",
         "1,2023",
         "2,55086",
         "2,55369",
         "2006-03-06 10:00:00.0",
         "Intermediário"
        ],
        [
         "3",
         "1,2019",
         "1,2018",
         "2,54923",
         "2,5514200000000002",
         "2006-03-06 10:30:00.0",
         "Intermediário"
        ],
        [
         "4",
         "1,202",
         "1,2021",
         "2,54824",
         "2,54965",
         "2006-03-06 11:00:00.0",
         "Intermediário"
        ]
       ],
       "shape": {
        "columns": 6,
        "rows": 5
       }
      },
      "text/html": [
       "<div>\n",
       "<style scoped>\n",
       "    .dataframe tbody tr th:only-of-type {\n",
       "        vertical-align: middle;\n",
       "    }\n",
       "\n",
       "    .dataframe tbody tr th {\n",
       "        vertical-align: top;\n",
       "    }\n",
       "\n",
       "    .dataframe thead th {\n",
       "        text-align: right;\n",
       "    }\n",
       "</style>\n",
       "<table border=\"1\" class=\"dataframe\">\n",
       "  <thead>\n",
       "    <tr style=\"text-align: right;\">\n",
       "      <th></th>\n",
       "      <th>Paridade_compra_Euro-USD</th>\n",
       "      <th>Paridade_venda_Euro-USD</th>\n",
       "      <th>Cotacao_compra_Euro</th>\n",
       "      <th>Cotacao_compra_Euro</th>\n",
       "      <th>Data_hora_cotacao</th>\n",
       "      <th>tipoBoletim</th>\n",
       "    </tr>\n",
       "  </thead>\n",
       "  <tbody>\n",
       "    <tr>\n",
       "      <th>0</th>\n",
       "      <td>1,2031</td>\n",
       "      <td>1,2035</td>\n",
       "      <td>2,54215</td>\n",
       "      <td>2,55503</td>\n",
       "      <td>2006-03-06 09:19:00.0</td>\n",
       "      <td>Abertura</td>\n",
       "    </tr>\n",
       "    <tr>\n",
       "      <th>1</th>\n",
       "      <td>1,2026</td>\n",
       "      <td>1,2028</td>\n",
       "      <td>2,55071</td>\n",
       "      <td>2,5547500000000003</td>\n",
       "      <td>2006-03-06 09:30:00.0</td>\n",
       "      <td>Intermediário</td>\n",
       "    </tr>\n",
       "    <tr>\n",
       "      <th>2</th>\n",
       "      <td>1,2021</td>\n",
       "      <td>1,2023</td>\n",
       "      <td>2,55086</td>\n",
       "      <td>2,55369</td>\n",
       "      <td>2006-03-06 10:00:00.0</td>\n",
       "      <td>Intermediário</td>\n",
       "    </tr>\n",
       "    <tr>\n",
       "      <th>3</th>\n",
       "      <td>1,2019</td>\n",
       "      <td>1,2018</td>\n",
       "      <td>2,54923</td>\n",
       "      <td>2,5514200000000002</td>\n",
       "      <td>2006-03-06 10:30:00.0</td>\n",
       "      <td>Intermediário</td>\n",
       "    </tr>\n",
       "    <tr>\n",
       "      <th>4</th>\n",
       "      <td>1,202</td>\n",
       "      <td>1,2021</td>\n",
       "      <td>2,54824</td>\n",
       "      <td>2,54965</td>\n",
       "      <td>2006-03-06 11:00:00.0</td>\n",
       "      <td>Intermediário</td>\n",
       "    </tr>\n",
       "  </tbody>\n",
       "</table>\n",
       "</div>"
      ],
      "text/plain": [
       "  Paridade_compra_Euro-USD Paridade_venda_Euro-USD Cotacao_compra_Euro  \\\n",
       "0                   1,2031                  1,2035             2,54215   \n",
       "1                   1,2026                  1,2028             2,55071   \n",
       "2                   1,2021                  1,2023             2,55086   \n",
       "3                   1,2019                  1,2018             2,54923   \n",
       "4                    1,202                  1,2021             2,54824   \n",
       "\n",
       "  Cotacao_compra_Euro      Data_hora_cotacao    tipoBoletim  \n",
       "0             2,55503  2006-03-06 09:19:00.0       Abertura  \n",
       "1  2,5547500000000003  2006-03-06 09:30:00.0  Intermediário  \n",
       "2             2,55369  2006-03-06 10:00:00.0  Intermediário  \n",
       "3  2,5514200000000002  2006-03-06 10:30:00.0  Intermediário  \n",
       "4             2,54965  2006-03-06 11:00:00.0  Intermediário  "
      ]
     },
     "execution_count": 2,
     "metadata": {},
     "output_type": "execute_result"
    }
   ],
   "source": [
    "# Dicionário de mapeamento (inglês para português simplificado)\n",
    "mapeamento_colunas = {\n",
    "    'paridadeCompra': 'Paridade_compra_Euro-USD',\n",
    "    'paridadeVenda': 'Paridade_venda_Euro-USD',\n",
    "    'cotacaoCompra': 'Cotacao_compra_Euro',\n",
    "    'cotacaoVenda': 'Cotacao_compra_Euro',\n",
    "    'dataHoraCotacao': 'Data_hora_cotacao',\n",
    "    'tipBoletim': 'Tipo_boletim'\n",
    "}\n",
    "\n",
    "# Renomear as colunas\n",
    "df = df.rename(columns=mapeamento_colunas)\n",
    "\n",
    "# Verificar o resultado\n",
    "df.head()"
   ]
  },
  {
   "cell_type": "markdown",
   "id": "8cdd81d0",
   "metadata": {},
   "source": [
    "## 2. Análise do conjunto de dados"
   ]
  },
  {
   "cell_type": "markdown",
   "id": "f17d4495",
   "metadata": {},
   "source": [
    "Verificação de dados faltantes no conjunto de dados"
   ]
  },
  {
   "cell_type": "code",
   "execution_count": 3,
   "id": "259cdf9d",
   "metadata": {},
   "outputs": [
    {
     "name": "stdout",
     "output_type": "stream",
     "text": [
      "Dados faltantes por coluna:\n",
      "Paridade_compra_Euro-USD    0\n",
      "Paridade_venda_Euro-USD     0\n",
      "Cotacao_compra_Euro         0\n",
      "Cotacao_compra_Euro         0\n",
      "Data_hora_cotacao           0\n",
      "tipoBoletim                 0\n",
      "dtype: int64\n"
     ]
    }
   ],
   "source": [
    "dados_faltantes = df.isnull().sum()\n",
    "\n",
    "# Verificar se há dados faltantes\n",
    "print(\"Dados faltantes por coluna:\")\n",
    "print(dados_faltantes)"
   ]
  },
  {
   "cell_type": "code",
   "execution_count": 4,
   "id": "f55d3f17",
   "metadata": {},
   "outputs": [
    {
     "name": "stdout",
     "output_type": "stream",
     "text": [
      "<class 'pandas.core.frame.DataFrame'>\n",
      "RangeIndex: 17 entries, 0 to 16\n",
      "Data columns (total 6 columns):\n",
      " #   Column                    Non-Null Count  Dtype \n",
      "---  ------                    --------------  ----- \n",
      " 0   Paridade_compra_Euro-USD  17 non-null     object\n",
      " 1   Paridade_venda_Euro-USD   17 non-null     object\n",
      " 2   Cotacao_compra_Euro       17 non-null     object\n",
      " 3   Cotacao_compra_Euro       17 non-null     object\n",
      " 4   Data_hora_cotacao         17 non-null     object\n",
      " 5   tipoBoletim               17 non-null     object\n",
      "dtypes: object(6)\n",
      "memory usage: 948.0+ bytes\n"
     ]
    }
   ],
   "source": [
    "#É possível verificar o tipo de dado de cada coluna\n",
    "df.info()"
   ]
  }
 ],
 "metadata": {
  "kernelspec": {
   "display_name": ".venv",
   "language": "python",
   "name": "python3"
  },
  "language_info": {
   "codemirror_mode": {
    "name": "ipython",
    "version": 3
   },
   "file_extension": ".py",
   "mimetype": "text/x-python",
   "name": "python",
   "nbconvert_exporter": "python",
   "pygments_lexer": "ipython3",
   "version": "3.12.10"
  }
 },
 "nbformat": 4,
 "nbformat_minor": 5
}
