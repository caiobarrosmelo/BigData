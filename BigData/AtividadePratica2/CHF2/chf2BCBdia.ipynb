{
 "cells": [
  {
   "cell_type": "markdown",
   "id": "35e51864",
   "metadata": {},
   "source": [
    "## 1. Coleta de Dados"
   ]
  },
  {
   "cell_type": "code",
   "execution_count": 19,
   "id": "8b5c9eee",
   "metadata": {},
   "outputs": [
    {
     "data": {
      "application/vnd.microsoft.datawrangler.viewer.v0+json": {
       "columns": [
        {
         "name": "index",
         "rawType": "int64",
         "type": "integer"
        },
        {
         "name": "paridadeCompra",
         "rawType": "object",
         "type": "string"
        },
        {
         "name": "paridadeVenda",
         "rawType": "object",
         "type": "string"
        },
        {
         "name": "cotacaoCompra",
         "rawType": "object",
         "type": "string"
        },
        {
         "name": "cotacaoVenda",
         "rawType": "object",
         "type": "string"
        },
        {
         "name": "dataHoraCotacao",
         "rawType": "object",
         "type": "string"
        },
        {
         "name": "tipoBoletim",
         "rawType": "object",
         "type": "string"
        }
       ],
       "ref": "8558bfcf-1173-4d61-9824-143e2d87bfd1",
       "rows": [
        [
         "0",
         "1,2969",
         "1,2973",
         "1,62877",
         "1,63698",
         "2006-03-06 09:19:00.0",
         "Abertura"
        ],
        [
         "1",
         "1,2974",
         "1,2977",
         "1,63443",
         "1,63712",
         "2006-03-06 09:30:00.0",
         "Intermediário"
        ],
        [
         "2",
         "1,2979",
         "1,2984",
         "1,6343200000000002",
         "1,63649",
         "2006-03-06 10:00:00.0",
         "Intermediário"
        ],
        [
         "3",
         "1,2986",
         "1,2991000000000001",
         "1,63267",
         "1,63484",
         "2006-03-06 10:30:00.0",
         "Intermediário"
        ],
        [
         "4",
         "1,298",
         "1,2982",
         "1,6330300000000002",
         "1,63405",
         "2006-03-06 11:00:00.0",
         "Intermediário"
        ]
       ],
       "shape": {
        "columns": 6,
        "rows": 5
       }
      },
      "text/html": [
       "<div>\n",
       "<style scoped>\n",
       "    .dataframe tbody tr th:only-of-type {\n",
       "        vertical-align: middle;\n",
       "    }\n",
       "\n",
       "    .dataframe tbody tr th {\n",
       "        vertical-align: top;\n",
       "    }\n",
       "\n",
       "    .dataframe thead th {\n",
       "        text-align: right;\n",
       "    }\n",
       "</style>\n",
       "<table border=\"1\" class=\"dataframe\">\n",
       "  <thead>\n",
       "    <tr style=\"text-align: right;\">\n",
       "      <th></th>\n",
       "      <th>paridadeCompra</th>\n",
       "      <th>paridadeVenda</th>\n",
       "      <th>cotacaoCompra</th>\n",
       "      <th>cotacaoVenda</th>\n",
       "      <th>dataHoraCotacao</th>\n",
       "      <th>tipoBoletim</th>\n",
       "    </tr>\n",
       "  </thead>\n",
       "  <tbody>\n",
       "    <tr>\n",
       "      <th>0</th>\n",
       "      <td>1,2969</td>\n",
       "      <td>1,2973</td>\n",
       "      <td>1,62877</td>\n",
       "      <td>1,63698</td>\n",
       "      <td>2006-03-06 09:19:00.0</td>\n",
       "      <td>Abertura</td>\n",
       "    </tr>\n",
       "    <tr>\n",
       "      <th>1</th>\n",
       "      <td>1,2974</td>\n",
       "      <td>1,2977</td>\n",
       "      <td>1,63443</td>\n",
       "      <td>1,63712</td>\n",
       "      <td>2006-03-06 09:30:00.0</td>\n",
       "      <td>Intermediário</td>\n",
       "    </tr>\n",
       "    <tr>\n",
       "      <th>2</th>\n",
       "      <td>1,2979</td>\n",
       "      <td>1,2984</td>\n",
       "      <td>1,6343200000000002</td>\n",
       "      <td>1,63649</td>\n",
       "      <td>2006-03-06 10:00:00.0</td>\n",
       "      <td>Intermediário</td>\n",
       "    </tr>\n",
       "    <tr>\n",
       "      <th>3</th>\n",
       "      <td>1,2986</td>\n",
       "      <td>1,2991000000000001</td>\n",
       "      <td>1,63267</td>\n",
       "      <td>1,63484</td>\n",
       "      <td>2006-03-06 10:30:00.0</td>\n",
       "      <td>Intermediário</td>\n",
       "    </tr>\n",
       "    <tr>\n",
       "      <th>4</th>\n",
       "      <td>1,298</td>\n",
       "      <td>1,2982</td>\n",
       "      <td>1,6330300000000002</td>\n",
       "      <td>1,63405</td>\n",
       "      <td>2006-03-06 11:00:00.0</td>\n",
       "      <td>Intermediário</td>\n",
       "    </tr>\n",
       "  </tbody>\n",
       "</table>\n",
       "</div>"
      ],
      "text/plain": [
       "  paridadeCompra       paridadeVenda       cotacaoCompra cotacaoVenda  \\\n",
       "0         1,2969              1,2973             1,62877      1,63698   \n",
       "1         1,2974              1,2977             1,63443      1,63712   \n",
       "2         1,2979              1,2984  1,6343200000000002      1,63649   \n",
       "3         1,2986  1,2991000000000001             1,63267      1,63484   \n",
       "4          1,298              1,2982  1,6330300000000002      1,63405   \n",
       "\n",
       "         dataHoraCotacao    tipoBoletim  \n",
       "0  2006-03-06 09:19:00.0       Abertura  \n",
       "1  2006-03-06 09:30:00.0  Intermediário  \n",
       "2  2006-03-06 10:00:00.0  Intermediário  \n",
       "3  2006-03-06 10:30:00.0  Intermediário  \n",
       "4  2006-03-06 11:00:00.0  Intermediário  "
      ]
     },
     "execution_count": 19,
     "metadata": {},
     "output_type": "execute_result"
    }
   ],
   "source": [
    "import pandas as pd\n",
    "\n",
    "# Carregar o dataset\n",
    "df = pd.read_csv('../../AtividadePratica1/CHF/datasetsCHF/chf_dia_csv.csv', sep=';')\n",
    "# Exibir as primeiras linhas do DataFrame\n",
    "df.head()\n"
   ]
  },
  {
   "cell_type": "markdown",
   "id": "f76bbf3f",
   "metadata": {},
   "source": [
    "- Com base na descrição fornecida pelo BCB, as colunas serão renomeadas para facilitação do entendimento. A moeda de referência para comparação será o dólar americano (USD).\n",
    "\n",
    "    1. paridadeCompra: Paridade de compra Franco Suíço-USD.\n",
    "\n",
    "        → Moedas tipo A: USD/[moeda], Moedas tipo B: [moeda]/USD.\n",
    "\n",
    "    2. paridadeVenda: Paridade de venda Franco Suíço-USD.\n",
    "\n",
    "        → Moedas tipo A: USD/[moeda], Moedas tipo B: [moeda]/USD.\n",
    "\n",
    "    3. cotacaoCompra: Cotação de compra Franco Suíço contra a unidade monetária corrente.\n",
    "\n",
    "        → Fórmula: unidade monetária corrente/[moeda].\n",
    "\n",
    "    4. cotacaoVenda: Cotação de venda Franco Suíço contra a unidade monetária corrente.\n",
    "\n",
    "        → Fórmula: unidade monetária corrente/[moeda].\n",
    "\n",
    "    5. dataHoraCotacao: Data e hora da cotação.\n",
    "\n",
    "        → Inclui data, hora e minuto das paridades e cotações.\n",
    "\n",
    "    6. tipoBoletim: Tipo do boletim que gerou os dados.\n",
    "\n",
    "        → Pode ser: Abertura, Intermediário, Fechamento Interbancário ou Fechamento."
   ]
  },
  {
   "cell_type": "code",
   "execution_count": 20,
   "id": "e5188511",
   "metadata": {},
   "outputs": [
    {
     "data": {
      "application/vnd.microsoft.datawrangler.viewer.v0+json": {
       "columns": [
        {
         "name": "index",
         "rawType": "int64",
         "type": "integer"
        },
        {
         "name": "Paridade_compra_Franco_Suico-USD",
         "rawType": "object",
         "type": "string"
        },
        {
         "name": "Paridade_venda_Franco_Suico-USD",
         "rawType": "object",
         "type": "string"
        },
        {
         "name": "Cotacao_compra_Franco_Suico",
         "rawType": "object",
         "type": "string"
        },
        {
         "name": "Cotacao_compra_Franco_Suico",
         "rawType": "object",
         "type": "string"
        },
        {
         "name": "Data_hora_cotacao",
         "rawType": "object",
         "type": "string"
        },
        {
         "name": "tipoBoletim",
         "rawType": "object",
         "type": "string"
        }
       ],
       "ref": "049e8ef8-d951-4dd1-ac96-9f9ad8bc416e",
       "rows": [
        [
         "0",
         "1,2969",
         "1,2973",
         "1,62877",
         "1,63698",
         "2006-03-06 09:19:00.0",
         "Abertura"
        ],
        [
         "1",
         "1,2974",
         "1,2977",
         "1,63443",
         "1,63712",
         "2006-03-06 09:30:00.0",
         "Intermediário"
        ],
        [
         "2",
         "1,2979",
         "1,2984",
         "1,6343200000000002",
         "1,63649",
         "2006-03-06 10:00:00.0",
         "Intermediário"
        ],
        [
         "3",
         "1,2986",
         "1,2991000000000001",
         "1,63267",
         "1,63484",
         "2006-03-06 10:30:00.0",
         "Intermediário"
        ],
        [
         "4",
         "1,298",
         "1,2982",
         "1,6330300000000002",
         "1,63405",
         "2006-03-06 11:00:00.0",
         "Intermediário"
        ]
       ],
       "shape": {
        "columns": 6,
        "rows": 5
       }
      },
      "text/html": [
       "<div>\n",
       "<style scoped>\n",
       "    .dataframe tbody tr th:only-of-type {\n",
       "        vertical-align: middle;\n",
       "    }\n",
       "\n",
       "    .dataframe tbody tr th {\n",
       "        vertical-align: top;\n",
       "    }\n",
       "\n",
       "    .dataframe thead th {\n",
       "        text-align: right;\n",
       "    }\n",
       "</style>\n",
       "<table border=\"1\" class=\"dataframe\">\n",
       "  <thead>\n",
       "    <tr style=\"text-align: right;\">\n",
       "      <th></th>\n",
       "      <th>Paridade_compra_Franco_Suico-USD</th>\n",
       "      <th>Paridade_venda_Franco_Suico-USD</th>\n",
       "      <th>Cotacao_compra_Franco_Suico</th>\n",
       "      <th>Cotacao_compra_Franco_Suico</th>\n",
       "      <th>Data_hora_cotacao</th>\n",
       "      <th>tipoBoletim</th>\n",
       "    </tr>\n",
       "  </thead>\n",
       "  <tbody>\n",
       "    <tr>\n",
       "      <th>0</th>\n",
       "      <td>1,2969</td>\n",
       "      <td>1,2973</td>\n",
       "      <td>1,62877</td>\n",
       "      <td>1,63698</td>\n",
       "      <td>2006-03-06 09:19:00.0</td>\n",
       "      <td>Abertura</td>\n",
       "    </tr>\n",
       "    <tr>\n",
       "      <th>1</th>\n",
       "      <td>1,2974</td>\n",
       "      <td>1,2977</td>\n",
       "      <td>1,63443</td>\n",
       "      <td>1,63712</td>\n",
       "      <td>2006-03-06 09:30:00.0</td>\n",
       "      <td>Intermediário</td>\n",
       "    </tr>\n",
       "    <tr>\n",
       "      <th>2</th>\n",
       "      <td>1,2979</td>\n",
       "      <td>1,2984</td>\n",
       "      <td>1,6343200000000002</td>\n",
       "      <td>1,63649</td>\n",
       "      <td>2006-03-06 10:00:00.0</td>\n",
       "      <td>Intermediário</td>\n",
       "    </tr>\n",
       "    <tr>\n",
       "      <th>3</th>\n",
       "      <td>1,2986</td>\n",
       "      <td>1,2991000000000001</td>\n",
       "      <td>1,63267</td>\n",
       "      <td>1,63484</td>\n",
       "      <td>2006-03-06 10:30:00.0</td>\n",
       "      <td>Intermediário</td>\n",
       "    </tr>\n",
       "    <tr>\n",
       "      <th>4</th>\n",
       "      <td>1,298</td>\n",
       "      <td>1,2982</td>\n",
       "      <td>1,6330300000000002</td>\n",
       "      <td>1,63405</td>\n",
       "      <td>2006-03-06 11:00:00.0</td>\n",
       "      <td>Intermediário</td>\n",
       "    </tr>\n",
       "  </tbody>\n",
       "</table>\n",
       "</div>"
      ],
      "text/plain": [
       "  Paridade_compra_Franco_Suico-USD Paridade_venda_Franco_Suico-USD  \\\n",
       "0                           1,2969                          1,2973   \n",
       "1                           1,2974                          1,2977   \n",
       "2                           1,2979                          1,2984   \n",
       "3                           1,2986              1,2991000000000001   \n",
       "4                            1,298                          1,2982   \n",
       "\n",
       "  Cotacao_compra_Franco_Suico Cotacao_compra_Franco_Suico  \\\n",
       "0                     1,62877                     1,63698   \n",
       "1                     1,63443                     1,63712   \n",
       "2          1,6343200000000002                     1,63649   \n",
       "3                     1,63267                     1,63484   \n",
       "4          1,6330300000000002                     1,63405   \n",
       "\n",
       "       Data_hora_cotacao    tipoBoletim  \n",
       "0  2006-03-06 09:19:00.0       Abertura  \n",
       "1  2006-03-06 09:30:00.0  Intermediário  \n",
       "2  2006-03-06 10:00:00.0  Intermediário  \n",
       "3  2006-03-06 10:30:00.0  Intermediário  \n",
       "4  2006-03-06 11:00:00.0  Intermediário  "
      ]
     },
     "execution_count": 20,
     "metadata": {},
     "output_type": "execute_result"
    }
   ],
   "source": [
    "# Dicionário de mapeamento (inglês para português simplificado)\n",
    "mapeamento_colunas = {\n",
    "    'paridadeCompra': 'Paridade_compra_Franco_Suico-USD',\n",
    "    'paridadeVenda': 'Paridade_venda_Franco_Suico-USD',\n",
    "    'cotacaoCompra': 'Cotacao_compra_Franco_Suico',\n",
    "    'cotacaoVenda': 'Cotacao_compra_Franco_Suico',\n",
    "    'dataHoraCotacao': 'Data_hora_cotacao',\n",
    "    'tipBoletim': 'Tipo_boletim'\n",
    "}\n",
    "\n",
    "# Renomear as colunas\n",
    "df = df.rename(columns=mapeamento_colunas)\n",
    "\n",
    "# Verificar o resultado\n",
    "df.head()"
   ]
  },
  {
   "cell_type": "markdown",
   "id": "8cdd81d0",
   "metadata": {},
   "source": [
    "## 2. Análise do conjunto de dados"
   ]
  },
  {
   "cell_type": "markdown",
   "id": "f17d4495",
   "metadata": {},
   "source": [
    "Verificação de dados faltantes no conjunto de dados"
   ]
  },
  {
   "cell_type": "code",
   "execution_count": 21,
   "id": "259cdf9d",
   "metadata": {},
   "outputs": [
    {
     "name": "stdout",
     "output_type": "stream",
     "text": [
      "Dados faltantes por coluna:\n",
      "Paridade_compra_Franco_Suico-USD    0\n",
      "Paridade_venda_Franco_Suico-USD     0\n",
      "Cotacao_compra_Franco_Suico         0\n",
      "Cotacao_compra_Franco_Suico         0\n",
      "Data_hora_cotacao                   0\n",
      "tipoBoletim                         0\n",
      "dtype: int64\n"
     ]
    }
   ],
   "source": [
    "dados_faltantes = df.isnull().sum()\n",
    "\n",
    "# Verificar se há dados faltantes\n",
    "print(\"Dados faltantes por coluna:\")\n",
    "print(dados_faltantes)"
   ]
  },
  {
   "cell_type": "code",
   "execution_count": 22,
   "id": "f55d3f17",
   "metadata": {},
   "outputs": [
    {
     "name": "stdout",
     "output_type": "stream",
     "text": [
      "<class 'pandas.core.frame.DataFrame'>\n",
      "RangeIndex: 17 entries, 0 to 16\n",
      "Data columns (total 6 columns):\n",
      " #   Column                            Non-Null Count  Dtype \n",
      "---  ------                            --------------  ----- \n",
      " 0   Paridade_compra_Franco_Suico-USD  17 non-null     object\n",
      " 1   Paridade_venda_Franco_Suico-USD   17 non-null     object\n",
      " 2   Cotacao_compra_Franco_Suico       17 non-null     object\n",
      " 3   Cotacao_compra_Franco_Suico       17 non-null     object\n",
      " 4   Data_hora_cotacao                 17 non-null     object\n",
      " 5   tipoBoletim                       17 non-null     object\n",
      "dtypes: object(6)\n",
      "memory usage: 948.0+ bytes\n"
     ]
    }
   ],
   "source": [
    "#É possível verificar o tipo de dado de cada coluna\n",
    "df.info()"
   ]
  }
 ],
 "metadata": {
  "kernelspec": {
   "display_name": ".venv",
   "language": "python",
   "name": "python3"
  },
  "language_info": {
   "codemirror_mode": {
    "name": "ipython",
    "version": 3
   },
   "file_extension": ".py",
   "mimetype": "text/x-python",
   "name": "python",
   "nbconvert_exporter": "python",
   "pygments_lexer": "ipython3",
   "version": "3.12.10"
  }
 },
 "nbformat": 4,
 "nbformat_minor": 5
}
